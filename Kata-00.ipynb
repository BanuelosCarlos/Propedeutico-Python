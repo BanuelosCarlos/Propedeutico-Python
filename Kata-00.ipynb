{
 "cells": [
  {
   "cell_type": "markdown",
   "metadata": {},
   "source": [
    "# Manual de la nave"
   ]
  },
  {
   "cell_type": "code",
   "execution_count": 1,
   "metadata": {},
   "outputs": [],
   "source": [
    "import ipywidgets as widgets"
   ]
  },
  {
   "cell_type": "code",
   "execution_count": 2,
   "metadata": {},
   "outputs": [
    {
     "data": {
      "application/vnd.jupyter.widget-view+json": {
       "model_id": "212c7b4370094f37aa46c0b1d7aecc91",
       "version_major": 2,
       "version_minor": 0
      },
      "text/plain": [
       "ToggleButton(value=False, button_style='success', description='Iniciar Launch', icon='rocket')"
      ]
     },
     "metadata": {},
     "output_type": "display_data"
    },
    {
     "data": {
      "application/vnd.jupyter.widget-view+json": {
       "model_id": "0fc2e591cb3f4e88a8a7af6452adff71",
       "version_major": 2,
       "version_minor": 0
      },
      "text/plain": [
       "Output()"
      ]
     },
     "metadata": {},
     "output_type": "display_data"
    }
   ],
   "source": [
    "ignition = widgets.ToggleButton(\n",
    "    value= False,\n",
    "    description= 'Iniciar Launch',\n",
    "    button_style= 'success',\n",
    "    tootip= 'Engage your Launch',\n",
    "    icon= 'rocket'\n",
    ")\n",
    "\n",
    "output = widgets.Output()\n",
    "\n",
    "display(ignition, output)\n",
    "\n",
    "def on_value_change(change):\n",
    "    with output:\n",
    "        if change['new']== True:\n",
    "            print('Nave Iniciada!')\n",
    "        else:\n",
    "            print('Nave Detenida')\n",
    "\n",
    "ignition.observe(on_value_change, names='value')"
   ]
  },
  {
   "cell_type": "markdown",
   "metadata": {},
   "source": [
    "## Niveles de ox\\'igeno\n",
    "Muestra diez minutos de niveles de ox\\'igeno en tu nave."
   ]
  },
  {
   "cell_type": "code",
   "execution_count": 3,
   "metadata": {},
   "outputs": [],
   "source": [
    "import numpy as np\n",
    "import matplotlib.pyplot as plt"
   ]
  },
  {
   "cell_type": "code",
   "execution_count": 4,
   "metadata": {},
   "outputs": [
    {
     "data": {
      "image/png": "[encoded data removed]",
      "text/plain": [
       "<Figure size 432x288 with 1 Axes>"
      ]
     },
     "metadata": {
      "needs_background": "light"
     },
     "output_type": "display_data"
    }
   ],
   "source": [
    "data = np.random.default_rng(12345);\n",
    "oxy_nums = data.integers(low=0, high = 10, size = 10);\n",
    "\n",
    "plt.bar(range(len(oxy_nums)), oxy_nums)\n",
    "plt.show()\n"
   ]
  },
  {
   "cell_type": "markdown",
   "metadata": {},
   "source": [
    "## Velocidad de la nave\n",
    "Se muestran los segundos necesarios para pasar de 0.0 a 11220 m/s, dada la aceleraci\\'on en m/s^2 "
   ]
  },
  {
   "cell_type": "code",
   "execution_count": 5,
   "metadata": {},
   "outputs": [
    {
     "name": "stdout",
     "output_type": "stream",
     "text": [
      "tiempo para alcanzar la velocidad deseada =  1144.8979591836735\n"
     ]
    },
    {
     "data": {
      "text/plain": [
       "Text(0, 0.5, 'Rapidez (m/s)')"
      ]
     },
     "execution_count": 5,
     "metadata": {},
     "output_type": "execute_result"
    },
    {
     "data": {
      "image/png": "[encoded data removed]",
      "text/plain": [
       "<Figure size 432x288 with 1 Axes>"
      ]
     },
     "metadata": {
      "needs_background": "light"
     },
     "output_type": "display_data"
    }
   ],
   "source": [
    "EndVel = 11220; #m/s\n",
    "StartVel = 0; #m/s\n",
    "xlrtion = 9.8; #m/s^2\\\n",
    "# Sabemos que con aceleracion cte. vf=vo+a*t entonces sabemos que vo=0, despejando t=vf/a\n",
    "time = (EndVel/xlrtion);\n",
    "print(\"tiempo para alcanzar la velocidad deseada = \",time)\n",
    "\n",
    "t = np.arange(0,EndVel/xlrtion,1) #arange(iniciom final(excluido), paso)\n",
    "InsVel=xlrtion*t\n",
    "plt.plot(t,InsVel)\n",
    "plt.xlabel(\"tiempo (s)\")\n",
    "plt.ylabel(\"Rapidez (m/s)\")\n"
   ]
  }
 ],
 "metadata": {
  "interpreter": {
   "hash": "ad4013d9b5fc9a648b9faaf08b6c327ff6142da6aec77e4b507e1e4dbd703a07"
  },
  "kernelspec": {
   "display_name": "Python 3.9.5",
   "language": "python",
   "name": "python3"
  },
  "language_info": {
   "codemirror_mode": {
    "name": "ipython",
    "version": 3
   },
   "file_extension": ".py",
   "mimetype": "text/x-python",
   "name": "python",
   "nbconvert_exporter": "python",
   "pygments_lexer": "ipython3",
   "version": "3.8.8"
  },
  "orig_nbformat": 4
 },
 "nbformat": 4,
 "nbformat_minor": 2
}
