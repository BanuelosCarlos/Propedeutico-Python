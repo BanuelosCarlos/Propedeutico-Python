{
 "cells": [
  {
   "cell_type": "markdown",
   "metadata": {},
   "source": [
    "## Ejercicio 1"
   ]
  },
  {
   "cell_type": "code",
   "execution_count": 20,
   "metadata": {},
   "outputs": [
    {
     "name": "stdout",
     "output_type": "stream",
     "text": [
      "Marte 2\n"
     ]
    }
   ],
   "source": [
    "planet = {\n",
    "    'nombre' : 'Marte',\n",
    "    'lunas' : 2\n",
    "}\n",
    "print(planet['nombre'], planet['lunas']) #da el valor de la clave solicitada "
   ]
  },
  {
   "cell_type": "code",
   "execution_count": 21,
   "metadata": {},
   "outputs": [],
   "source": [
    "planet['circunferencia (km)']={\n",
    "    'polar':6752,\n",
    "    \"ecuatorial\":6792\n",
    "}"
   ]
  },
  {
   "cell_type": "code",
   "execution_count": 24,
   "metadata": {},
   "outputs": [
    {
     "name": "stdout",
     "output_type": "stream",
     "text": [
      "Marte {'polar': 6752, 'ecuatorial': 6792}\n"
     ]
    }
   ],
   "source": [
    "print(planet.get('nombre'),planet['circunferencia (km)'])"
   ]
  },
  {
   "cell_type": "code",
   "execution_count": 25,
   "metadata": {},
   "outputs": [
    {
     "name": "stdout",
     "output_type": "stream",
     "text": [
      "Marte 6752\n"
     ]
    }
   ],
   "source": [
    "print(planet.get('nombre'),planet['circunferencia (km)']['polar'])"
   ]
  },
  {
   "cell_type": "markdown",
   "metadata": {},
   "source": [
    "## Ejercicio 2"
   ]
  },
  {
   "cell_type": "code",
   "execution_count": 26,
   "metadata": {},
   "outputs": [],
   "source": [
    "planet_moons = {\n",
    "    'mercury': 0,\n",
    "    'venus': 0,\n",
    "    'earth': 1,\n",
    "    'mars': 2,\n",
    "    'jupiter': 79,\n",
    "    'saturn': 82,\n",
    "    'uranus': 27,\n",
    "    'neptune': 14,\n",
    "    'pluto': 5,\n",
    "    'haumea': 2,\n",
    "    'makemake': 1,\n",
    "    'eris': 1\n",
    "}"
   ]
  },
  {
   "cell_type": "code",
   "execution_count": 29,
   "metadata": {},
   "outputs": [
    {
     "name": "stdout",
     "output_type": "stream",
     "text": [
      "214\n"
     ]
    }
   ],
   "source": [
    "lunas_totales = 0\n",
    "for values in planet_moons.values():\n",
    "    lunas_totales += values\n",
    "print(lunas_totales)"
   ]
  },
  {
   "cell_type": "code",
   "execution_count": 31,
   "metadata": {},
   "outputs": [
    {
     "name": "stdout",
     "output_type": "stream",
     "text": [
      "17.833333333333332\n"
     ]
    }
   ],
   "source": [
    "#pormedio de lunas por planeta es\n",
    "total_planetas = len(planet_moons.keys())\n",
    "avg_lunas=lunas_totales/total_planetas\n",
    "print(avg_lunas)"
   ]
  },
  {
   "cell_type": "markdown",
   "metadata": {},
   "source": [
    "## Ejemplos modulo 8"
   ]
  },
  {
   "cell_type": "code",
   "execution_count": 6,
   "metadata": {},
   "outputs": [
    {
     "name": "stdout",
     "output_type": "stream",
     "text": [
      "Tierra\n"
     ]
    }
   ],
   "source": [
    "print(planet['nombre']) #igual que get, menos codigo para recuperar elementos"
   ]
  },
  {
   "cell_type": "code",
   "execution_count": 10,
   "metadata": {},
   "outputs": [
    {
     "name": "stdout",
     "output_type": "stream",
     "text": [
      "Makemake\n",
      "Tierra\n"
     ]
    }
   ],
   "source": [
    "#con update modificas actualizas el diccionario como parametro\n",
    "planet.update({'nombre':'Makemake'})\n",
    "print(planet['nombre'])\n",
    "#aqui se hace lo mismo pero con corchetes\n",
    "planet['nombre']='Tierra'\n",
    "print(planet['nombre'])"
   ]
  },
  {
   "cell_type": "code",
   "execution_count": 30,
   "metadata": {},
   "outputs": [
    {
     "name": "stdout",
     "output_type": "stream",
     "text": [
      "{'nombre': 'jupiter', 'lunas': 79, 'diametro (km)': {'polar': 133709, 'ecuatorial': 142984}}\n",
      "{'nombre': 'Jupiter', 'lunas': 79, 'diametro (km)': {'polar': 133709, 'ecuatorial': 142984}}\n"
     ]
    }
   ],
   "source": [
    "#usando update\n",
    "planet.update({\n",
    "    'nombre':'jupiter',\n",
    "    'lunas': 79\n",
    "})\n",
    "print(planet)\n",
    "#usando corchetes\n",
    "planet['nombre'] = 'Jupiter'\n",
    "planet['lunas'] = 79\n",
    "print(planet)"
   ]
  },
  {
   "cell_type": "code",
   "execution_count": 31,
   "metadata": {},
   "outputs": [
    {
     "name": "stdout",
     "output_type": "stream",
     "text": [
      "{'nombre': 'Jupiter', 'lunas': 79, 'diametro (km)': {'polar': 133709, 'ecuatorial': 142984}, 'Periodo orbital': 4333}\n"
     ]
    }
   ],
   "source": [
    "#anadir claves sin definirlas antes\n",
    "planet['Periodo orbital'] = 4333\n",
    "print(planet)"
   ]
  },
  {
   "cell_type": "code",
   "execution_count": 32,
   "metadata": {},
   "outputs": [
    {
     "name": "stdout",
     "output_type": "stream",
     "text": [
      "Jupiter\n"
     ]
    }
   ],
   "source": [
    "planet.pop('Periodo orbital')\n",
    "print(planet['nombre'])"
   ]
  },
  {
   "cell_type": "code",
   "execution_count": 47,
   "metadata": {},
   "outputs": [
    {
     "name": "stdout",
     "output_type": "stream",
     "text": [
      "Jupiter : Diametro polar igual a  133709\n"
     ]
    }
   ],
   "source": [
    "#anadiendo un nuevo diccionario \n",
    "planet['diametro (km)'] = {\n",
    "    'polar':133709,\n",
    "    'ecuatorial':142984\n",
    "}\n",
    "\n",
    "print(planet['nombre'],': Diametro polar igual a ' ,planet['diametro (km)']['polar'])\n",
    "\n",
    "# Salida: Jupiter polar diameter: 133709"
   ]
  },
  {
   "cell_type": "code",
   "execution_count": 59,
   "metadata": {},
   "outputs": [
    {
     "name": "stdout",
     "output_type": "stream",
     "text": [
      "octubre:3.5cm\n",
      "noviembre:4.2cm\n",
      "diciembre:2.1cm\n"
     ]
    }
   ],
   "source": [
    "#el metodo keys() devuelve las claves\n",
    "rainfall = {\n",
    "    'octubre':3.5,\n",
    "    'noviembre':4.2,\n",
    "    'diciembre':2.1\n",
    "}\n",
    "for key in rainfall.keys():\n",
    "    print(f'{key}:{rainfall[key]}cm')\n",
    "\n"
   ]
  },
  {
   "cell_type": "code",
   "execution_count": 60,
   "metadata": {},
   "outputs": [
    {
     "name": "stdout",
     "output_type": "stream",
     "text": [
      "{'octubre': 3.5, 'noviembre': 4.2, 'diciembre': 3.1}\n"
     ]
    }
   ],
   "source": [
    "if 'diciembre' in rainfall:\n",
    "    rainfall['diciembre'] = rainfall['diciembre']+1\n",
    "else:\n",
    "    rainfall['diciembre']=1\n",
    "print(rainfall)"
   ]
  },
  {
   "cell_type": "code",
   "execution_count": 62,
   "metadata": {},
   "outputs": [
    {
     "name": "stdout",
     "output_type": "stream",
     "text": [
      "Hubo en total 10.8 cm ene l ultimo cuaarto\n"
     ]
    }
   ],
   "source": [
    "#recuperar valores de un diccionario\n",
    "total_rainfall = 0\n",
    "\n",
    "for values in rainfall.values():\n",
    "    total_rainfall = total_rainfall + values\n",
    "\n",
    "print(f'Hubo en total {total_rainfall} cm ene l ultimo cuarto')"
   ]
  }
 ],
 "metadata": {
  "interpreter": {
   "hash": "c469c999aae2bf6d578d6881606ced546d1546d312a4811937df5b24665ee8bc"
  },
  "kernelspec": {
   "display_name": "Python 3.8.8 ('base')",
   "language": "python",
   "name": "python3"
  },
  "language_info": {
   "codemirror_mode": {
    "name": "ipython",
    "version": 3
   },
   "file_extension": ".py",
   "mimetype": "text/x-python",
   "name": "python",
   "nbconvert_exporter": "python",
   "pygments_lexer": "ipython3",
   "version": "3.8.8"
  },
  "orig_nbformat": 4
 },
 "nbformat": 4,
 "nbformat_minor": 2
}
