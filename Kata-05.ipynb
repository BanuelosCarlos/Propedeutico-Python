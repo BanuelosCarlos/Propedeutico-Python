{
 "cells": [
  {
   "cell_type": "markdown",
   "metadata": {},
   "source": [
    "## Ejercicio 1"
   ]
  },
  {
   "cell_type": "code",
   "execution_count": 8,
   "metadata": {},
   "outputs": [],
   "source": [
    "d_tierra = 149597870 #km\n",
    "d_jupiter = 778547200 #km"
   ]
  },
  {
   "cell_type": "code",
   "execution_count": 10,
   "metadata": {},
   "outputs": [
    {
     "name": "stdout",
     "output_type": "stream",
     "text": [
      "La distancia entre jupiter y la tierra es de: 628949330 km o 390577533.93 Miles\n"
     ]
    }
   ],
   "source": [
    "d_entre_planetas = -d_tierra+d_jupiter\n",
    "print(\"La distancia entre jupiter y la tierra es de: \"+str(d_entre_planetas)+ \" km o \" +str(d_entre_planetas*0.621)+\" Miles\")"
   ]
  },
  {
   "cell_type": "markdown",
   "metadata": {},
   "source": [
    "## Ejercicio 2"
   ]
  },
  {
   "cell_type": "code",
   "execution_count": 17,
   "metadata": {},
   "outputs": [
    {
     "name": "stdout",
     "output_type": "stream",
     "text": [
      "La distancia entre el planeta 1 y el planeta 2 es de: 454535454 km o 282266516.934 Miles\n"
     ]
    }
   ],
   "source": [
    "d_planeta1 = input(\"Distancia del primer planeta al sol: \")\n",
    "d_planeta2 = input(\"Distancia del segundo planeta al sol: \")\n",
    "d_num1 = int(d_planeta1)\n",
    "d_num2 = int(d_planeta2)\n",
    "d_entre1y2 = abs(d_num1-d_num2)\n",
    "print(\"La distancia entre el planeta 1 y el planeta 2 es de: \"+str(d_entre1y2)+ \" km o \" +str(d_entre1y2*0.621)+\" Miles\")\n"
   ]
  }
 ],
 "metadata": {
  "interpreter": {
   "hash": "c469c999aae2bf6d578d6881606ced546d1546d312a4811937df5b24665ee8bc"
  },
  "kernelspec": {
   "display_name": "Python 3.8.8 ('base')",
   "language": "python",
   "name": "python3"
  },
  "language_info": {
   "codemirror_mode": {
    "name": "ipython",
    "version": 3
   },
   "file_extension": ".py",
   "mimetype": "text/x-python",
   "name": "python",
   "nbconvert_exporter": "python",
   "pygments_lexer": "ipython3",
   "version": "3.8.8"
  },
  "orig_nbformat": 4
 },
 "nbformat": 4,
 "nbformat_minor": 2
}
