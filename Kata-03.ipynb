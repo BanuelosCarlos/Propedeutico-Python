{
 "cells": [
  {
   "cell_type": "markdown",
   "metadata": {},
   "source": [
    "##Alerta de asteroide"
   ]
  },
  {
   "cell_type": "code",
   "execution_count": 28,
   "metadata": {},
   "outputs": [
    {
     "name": "stdout",
     "output_type": "stream",
     "text": [
      "Alerta de asteroide!\n"
     ]
    }
   ],
   "source": [
    "vel_asteroide = 49.0\n",
    "\n",
    "if vel_asteroide>=25.0:\n",
    "    print(\"Alerta de asteroide a velocidad peligrosa!\")\n",
    "else:\n",
    "    print(\"Todo en orden, tenga un buen dia.\")"
   ]
  },
  {
   "cell_type": "code",
   "execution_count": 29,
   "metadata": {},
   "outputs": [
    {
     "name": "stdout",
     "output_type": "stream",
     "text": [
      "Todo en orden, tenga un buen dia.\n"
     ]
    }
   ],
   "source": [
    "vel_asteroide = 19.0\n",
    "\n",
    "if vel_asteroide>=25.0:\n",
    "    print(\"Alerta de asteroide peligroso, en el cielo se ve el destello!\")\n",
    "elif vel_asteroide>=20:\n",
    "    print(\"En el cielo se ve el destello de un asteroide!\")\n",
    "else:\n",
    "    print(\"Todo en orden, tenga un buen dia.\")"
   ]
  },
  {
   "cell_type": "code",
   "execution_count": 6,
   "metadata": {},
   "outputs": [],
   "source": [
    "from random import *"
   ]
  },
  {
   "cell_type": "code",
   "execution_count": 32,
   "metadata": {},
   "outputs": [
    {
     "name": "stdout",
     "output_type": "stream",
     "text": [
      "Alerta de asteroide peligroso con velocidad igual a: 95 km/s. Diametro de:76 m se aprecia un destello en el cielo!\n"
     ]
    }
   ],
   "source": [
    "vel_asteroide = randint(10,100)\n",
    "tamano_asteroide = randint(10, 100)\n",
    "\n",
    "if vel_asteroide>=25.0 and tamano_asteroide>=25:\n",
    "    print(\"Alerta de asteroide peligroso con velocidad igual a: \"+ str(vel_asteroide) + \" km/s. Diametro de:\" + str(tamano_asteroide)+\" m se aprecia un destello en el cielo!\" )\n",
    "elif vel_asteroide>=25.0 and tamano_asteroide<25:\n",
    "    print(\"Alerta de asteroide con velocidad igual a: \"+ str(vel_asteroide) + \" km/s. Diametro de:\" + str(tamano_asteroide)+\" m se aprecia un destello en el cielo!\" )\n",
    "elif vel_asteroide>=20.0 and tamano_asteroide<25:\n",
    "    print(\"Destello en el cielo. El asteroide se quemara en la atmosfera.\")\n",
    "else:\n",
    "    print(\"Todo en orden, tenga un buen dia.\")"
   ]
  }
 ],
 "metadata": {
  "interpreter": {
   "hash": "c469c999aae2bf6d578d6881606ced546d1546d312a4811937df5b24665ee8bc"
  },
  "kernelspec": {
   "display_name": "Python 3.8.8 ('base')",
   "language": "python",
   "name": "python3"
  },
  "language_info": {
   "codemirror_mode": {
    "name": "ipython",
    "version": 3
   },
   "file_extension": ".py",
   "mimetype": "text/x-python",
   "name": "python",
   "nbconvert_exporter": "python",
   "pygments_lexer": "ipython3",
   "version": "3.8.8"
  },
  "orig_nbformat": 4
 },
 "nbformat": 4,
 "nbformat_minor": 2
}
